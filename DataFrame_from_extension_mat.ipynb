{
  "nbformat": 4,
  "nbformat_minor": 0,
  "metadata": {
    "colab": {
      "name": "DataFrame_from_extension_mat",
      "provenance": [],
      "collapsed_sections": [],
      "authorship_tag": "ABX9TyPZbbe3nSzv7zsxkBF6M9lj",
      "include_colab_link": true
    },
    "kernelspec": {
      "name": "python3",
      "display_name": "Python 3"
    }
  },
  "cells": [
    {
      "cell_type": "markdown",
      "metadata": {
        "id": "view-in-github",
        "colab_type": "text"
      },
      "source": [
        "<a href=\"https://colab.research.google.com/github/adrianadamata/Data_Science_DataFrame_from_mat/blob/master/DataFrame_from_extension_mat.ipynb\" target=\"_parent\"><img src=\"https://colab.research.google.com/assets/colab-badge.svg\" alt=\"Open In Colab\"/></a>"
      ]
    },
    {
      "cell_type": "markdown",
      "metadata": {
        "id": "-urxnPzRNePs",
        "colab_type": "text"
      },
      "source": [
        "# Construção de DataFrame a partir de arquivo em extensão `.mat`\n",
        "\n",
        "O arquivo `.mat` carregado neste notebook faz parte de experimento realizado em Tomógrafo por Impedância Elétrica, com os dados de tensão de 16 eletrodos."
      ]
    },
    {
      "cell_type": "code",
      "metadata": {
        "id": "j5DIGzTNqjdp",
        "colab_type": "code",
        "colab": {}
      },
      "source": [
        "from scipy.io import loadmat\n",
        "import pandas as pd"
      ],
      "execution_count": null,
      "outputs": []
    },
    {
      "cell_type": "code",
      "metadata": {
        "id": "PnDCdMUw1Itv",
        "colab_type": "code",
        "colab": {
          "base_uri": "https://localhost:8080/",
          "height": 289
        },
        "outputId": "983524ae-f0e6-4bca-8899-de6431c35753"
      },
      "source": [
        "# para carregar arquivo .mat é necessário fazer o upload do arquivo dentro do notebook, no terceiro ícone da barra lateral esquerda \"Files\"\n",
        "mat = loadmat('real-Teste33.mat')\n",
        "# mat tem formato de dict\n",
        "mat"
      ],
      "execution_count": null,
      "outputs": [
        {
          "output_type": "execute_result",
          "data": {
            "text/plain": [
              "{'ZZmeas_2': array([[0.20336134, 0.23891403, 0.2398621 , ..., 0.23954607, 0.23938806,\n",
              "         0.24033613],\n",
              "        [0.07774187, 0.08232421, 0.08279825, ..., 0.08311427, 0.08248222,\n",
              "         0.08264024],\n",
              "        [0.05119586, 0.05277598, 0.05293399, ..., 0.05325002, 0.05277598,\n",
              "         0.05277598],\n",
              "        ...,\n",
              "        [0.04266322, 0.04218918, 0.04203117, ..., 0.0423472 , 0.04218918,\n",
              "         0.04250521],\n",
              "        [0.07647777, 0.07568771, 0.07663578, ..., 0.07663578, 0.07663578,\n",
              "         0.07631976],\n",
              "        [0.20588954, 0.20525749, 0.20604755, ..., 0.20683761, 0.20636357,\n",
              "         0.20588954]]),\n",
              " '__globals__': [],\n",
              " '__header__': b'MATLAB 5.0 MAT-file, Platform: PCWIN64, Created on: Fri Sep 27 15:04:49 2019',\n",
              " '__version__': '1.0'}"
            ]
          },
          "metadata": {
            "tags": []
          },
          "execution_count": 41
        }
      ]
    },
    {
      "cell_type": "code",
      "metadata": {
        "id": "GLCzr5GXMud0",
        "colab_type": "code",
        "colab": {
          "base_uri": "https://localhost:8080/",
          "height": 238
        },
        "outputId": "8d965e7e-342d-40ee-935b-bcb881a3c464"
      },
      "source": [
        "mdata = mat['ZZmeas_2']\n",
        "# mdata tem formato array shape(208,20)\n",
        "mdata"
      ],
      "execution_count": null,
      "outputs": [
        {
          "output_type": "execute_result",
          "data": {
            "text/plain": [
              "array([[0.20336134, 0.23891403, 0.2398621 , ..., 0.23954607, 0.23938806,\n",
              "        0.24033613],\n",
              "       [0.07774187, 0.08232421, 0.08279825, ..., 0.08311427, 0.08248222,\n",
              "        0.08264024],\n",
              "       [0.05119586, 0.05277598, 0.05293399, ..., 0.05325002, 0.05277598,\n",
              "        0.05277598],\n",
              "       ...,\n",
              "       [0.04266322, 0.04218918, 0.04203117, ..., 0.0423472 , 0.04218918,\n",
              "        0.04250521],\n",
              "       [0.07647777, 0.07568771, 0.07663578, ..., 0.07663578, 0.07663578,\n",
              "        0.07631976],\n",
              "       [0.20588954, 0.20525749, 0.20604755, ..., 0.20683761, 0.20636357,\n",
              "        0.20588954]])"
            ]
          },
          "metadata": {
            "tags": []
          },
          "execution_count": 42
        }
      ]
    },
    {
      "cell_type": "code",
      "metadata": {
        "id": "55UnlRWTBuPN",
        "colab_type": "code",
        "colab": {
          "base_uri": "https://localhost:8080/",
          "height": 439
        },
        "outputId": "6d292621-290e-4ce4-c5a4-d436c5c35c54"
      },
      "source": [
        "df = pd.DataFrame(mdata)\n",
        "# df é o DataFrame obtido shape(208,20)\n",
        "df"
      ],
      "execution_count": null,
      "outputs": [
        {
          "output_type": "execute_result",
          "data": {
            "text/html": [
              "<div>\n",
              "<style scoped>\n",
              "    .dataframe tbody tr th:only-of-type {\n",
              "        vertical-align: middle;\n",
              "    }\n",
              "\n",
              "    .dataframe tbody tr th {\n",
              "        vertical-align: top;\n",
              "    }\n",
              "\n",
              "    .dataframe thead th {\n",
              "        text-align: right;\n",
              "    }\n",
              "</style>\n",
              "<table border=\"1\" class=\"dataframe\">\n",
              "  <thead>\n",
              "    <tr style=\"text-align: right;\">\n",
              "      <th></th>\n",
              "      <th>0</th>\n",
              "      <th>1</th>\n",
              "      <th>2</th>\n",
              "      <th>3</th>\n",
              "      <th>4</th>\n",
              "      <th>5</th>\n",
              "      <th>6</th>\n",
              "      <th>7</th>\n",
              "      <th>8</th>\n",
              "      <th>9</th>\n",
              "      <th>10</th>\n",
              "      <th>11</th>\n",
              "      <th>12</th>\n",
              "      <th>13</th>\n",
              "      <th>14</th>\n",
              "      <th>15</th>\n",
              "      <th>16</th>\n",
              "      <th>17</th>\n",
              "      <th>18</th>\n",
              "      <th>19</th>\n",
              "    </tr>\n",
              "  </thead>\n",
              "  <tbody>\n",
              "    <tr>\n",
              "      <th>0</th>\n",
              "      <td>0.203361</td>\n",
              "      <td>0.238914</td>\n",
              "      <td>0.239862</td>\n",
              "      <td>0.239388</td>\n",
              "      <td>0.240020</td>\n",
              "      <td>0.238914</td>\n",
              "      <td>0.239546</td>\n",
              "      <td>0.239388</td>\n",
              "      <td>0.241126</td>\n",
              "      <td>0.240968</td>\n",
              "      <td>0.239546</td>\n",
              "      <td>0.239546</td>\n",
              "      <td>0.239704</td>\n",
              "      <td>0.240336</td>\n",
              "      <td>0.240020</td>\n",
              "      <td>0.240652</td>\n",
              "      <td>0.240178</td>\n",
              "      <td>0.239546</td>\n",
              "      <td>0.239388</td>\n",
              "      <td>0.240336</td>\n",
              "    </tr>\n",
              "    <tr>\n",
              "      <th>1</th>\n",
              "      <td>0.077742</td>\n",
              "      <td>0.082324</td>\n",
              "      <td>0.082798</td>\n",
              "      <td>0.082798</td>\n",
              "      <td>0.082324</td>\n",
              "      <td>0.082956</td>\n",
              "      <td>0.082798</td>\n",
              "      <td>0.082324</td>\n",
              "      <td>0.082798</td>\n",
              "      <td>0.083588</td>\n",
              "      <td>0.082640</td>\n",
              "      <td>0.082324</td>\n",
              "      <td>0.082640</td>\n",
              "      <td>0.083430</td>\n",
              "      <td>0.082640</td>\n",
              "      <td>0.082798</td>\n",
              "      <td>0.082956</td>\n",
              "      <td>0.083114</td>\n",
              "      <td>0.082482</td>\n",
              "      <td>0.082640</td>\n",
              "    </tr>\n",
              "    <tr>\n",
              "      <th>2</th>\n",
              "      <td>0.051196</td>\n",
              "      <td>0.052776</td>\n",
              "      <td>0.052934</td>\n",
              "      <td>0.052934</td>\n",
              "      <td>0.052934</td>\n",
              "      <td>0.052776</td>\n",
              "      <td>0.053092</td>\n",
              "      <td>0.052776</td>\n",
              "      <td>0.052776</td>\n",
              "      <td>0.053724</td>\n",
              "      <td>0.052776</td>\n",
              "      <td>0.052460</td>\n",
              "      <td>0.052934</td>\n",
              "      <td>0.052934</td>\n",
              "      <td>0.053092</td>\n",
              "      <td>0.052934</td>\n",
              "      <td>0.052460</td>\n",
              "      <td>0.053250</td>\n",
              "      <td>0.052776</td>\n",
              "      <td>0.052776</td>\n",
              "    </tr>\n",
              "    <tr>\n",
              "      <th>3</th>\n",
              "      <td>0.034763</td>\n",
              "      <td>0.035079</td>\n",
              "      <td>0.035237</td>\n",
              "      <td>0.035553</td>\n",
              "      <td>0.035395</td>\n",
              "      <td>0.034921</td>\n",
              "      <td>0.034921</td>\n",
              "      <td>0.035553</td>\n",
              "      <td>0.035395</td>\n",
              "      <td>0.035079</td>\n",
              "      <td>0.035395</td>\n",
              "      <td>0.035553</td>\n",
              "      <td>0.035237</td>\n",
              "      <td>0.035395</td>\n",
              "      <td>0.035553</td>\n",
              "      <td>0.035869</td>\n",
              "      <td>0.035237</td>\n",
              "      <td>0.035079</td>\n",
              "      <td>0.035395</td>\n",
              "      <td>0.035553</td>\n",
              "    </tr>\n",
              "    <tr>\n",
              "      <th>4</th>\n",
              "      <td>0.029706</td>\n",
              "      <td>0.029548</td>\n",
              "      <td>0.029390</td>\n",
              "      <td>0.029864</td>\n",
              "      <td>0.030022</td>\n",
              "      <td>0.029548</td>\n",
              "      <td>0.029232</td>\n",
              "      <td>0.030022</td>\n",
              "      <td>0.030022</td>\n",
              "      <td>0.029706</td>\n",
              "      <td>0.030022</td>\n",
              "      <td>0.030180</td>\n",
              "      <td>0.030022</td>\n",
              "      <td>0.029706</td>\n",
              "      <td>0.029706</td>\n",
              "      <td>0.030022</td>\n",
              "      <td>0.029864</td>\n",
              "      <td>0.029390</td>\n",
              "      <td>0.030180</td>\n",
              "      <td>0.029706</td>\n",
              "    </tr>\n",
              "    <tr>\n",
              "      <th>...</th>\n",
              "      <td>...</td>\n",
              "      <td>...</td>\n",
              "      <td>...</td>\n",
              "      <td>...</td>\n",
              "      <td>...</td>\n",
              "      <td>...</td>\n",
              "      <td>...</td>\n",
              "      <td>...</td>\n",
              "      <td>...</td>\n",
              "      <td>...</td>\n",
              "      <td>...</td>\n",
              "      <td>...</td>\n",
              "      <td>...</td>\n",
              "      <td>...</td>\n",
              "      <td>...</td>\n",
              "      <td>...</td>\n",
              "      <td>...</td>\n",
              "      <td>...</td>\n",
              "      <td>...</td>\n",
              "      <td>...</td>\n",
              "    </tr>\n",
              "    <tr>\n",
              "      <th>203</th>\n",
              "      <td>0.069209</td>\n",
              "      <td>0.069051</td>\n",
              "      <td>0.068893</td>\n",
              "      <td>0.069525</td>\n",
              "      <td>0.069683</td>\n",
              "      <td>0.069051</td>\n",
              "      <td>0.069051</td>\n",
              "      <td>0.069683</td>\n",
              "      <td>0.069525</td>\n",
              "      <td>0.069209</td>\n",
              "      <td>0.068893</td>\n",
              "      <td>0.069683</td>\n",
              "      <td>0.069525</td>\n",
              "      <td>0.069051</td>\n",
              "      <td>0.069051</td>\n",
              "      <td>0.069525</td>\n",
              "      <td>0.069525</td>\n",
              "      <td>0.069209</td>\n",
              "      <td>0.069051</td>\n",
              "      <td>0.069683</td>\n",
              "    </tr>\n",
              "    <tr>\n",
              "      <th>204</th>\n",
              "      <td>0.061467</td>\n",
              "      <td>0.060677</td>\n",
              "      <td>0.060677</td>\n",
              "      <td>0.061467</td>\n",
              "      <td>0.061467</td>\n",
              "      <td>0.060835</td>\n",
              "      <td>0.061151</td>\n",
              "      <td>0.061783</td>\n",
              "      <td>0.060993</td>\n",
              "      <td>0.060835</td>\n",
              "      <td>0.061309</td>\n",
              "      <td>0.061309</td>\n",
              "      <td>0.060993</td>\n",
              "      <td>0.060835</td>\n",
              "      <td>0.061151</td>\n",
              "      <td>0.061151</td>\n",
              "      <td>0.060519</td>\n",
              "      <td>0.060993</td>\n",
              "      <td>0.061309</td>\n",
              "      <td>0.060993</td>\n",
              "    </tr>\n",
              "    <tr>\n",
              "      <th>205</th>\n",
              "      <td>0.042663</td>\n",
              "      <td>0.042189</td>\n",
              "      <td>0.042031</td>\n",
              "      <td>0.042505</td>\n",
              "      <td>0.042347</td>\n",
              "      <td>0.042347</td>\n",
              "      <td>0.042189</td>\n",
              "      <td>0.042505</td>\n",
              "      <td>0.042347</td>\n",
              "      <td>0.042031</td>\n",
              "      <td>0.042663</td>\n",
              "      <td>0.042347</td>\n",
              "      <td>0.042031</td>\n",
              "      <td>0.042505</td>\n",
              "      <td>0.042663</td>\n",
              "      <td>0.042663</td>\n",
              "      <td>0.042821</td>\n",
              "      <td>0.042347</td>\n",
              "      <td>0.042189</td>\n",
              "      <td>0.042505</td>\n",
              "    </tr>\n",
              "    <tr>\n",
              "      <th>206</th>\n",
              "      <td>0.076478</td>\n",
              "      <td>0.075688</td>\n",
              "      <td>0.076636</td>\n",
              "      <td>0.076478</td>\n",
              "      <td>0.076320</td>\n",
              "      <td>0.076478</td>\n",
              "      <td>0.076794</td>\n",
              "      <td>0.076636</td>\n",
              "      <td>0.076004</td>\n",
              "      <td>0.076478</td>\n",
              "      <td>0.076952</td>\n",
              "      <td>0.075846</td>\n",
              "      <td>0.075688</td>\n",
              "      <td>0.076636</td>\n",
              "      <td>0.076636</td>\n",
              "      <td>0.076162</td>\n",
              "      <td>0.076004</td>\n",
              "      <td>0.076636</td>\n",
              "      <td>0.076636</td>\n",
              "      <td>0.076320</td>\n",
              "    </tr>\n",
              "    <tr>\n",
              "      <th>207</th>\n",
              "      <td>0.205890</td>\n",
              "      <td>0.205257</td>\n",
              "      <td>0.206048</td>\n",
              "      <td>0.206206</td>\n",
              "      <td>0.206364</td>\n",
              "      <td>0.205890</td>\n",
              "      <td>0.206522</td>\n",
              "      <td>0.207154</td>\n",
              "      <td>0.205415</td>\n",
              "      <td>0.206364</td>\n",
              "      <td>0.206364</td>\n",
              "      <td>0.206048</td>\n",
              "      <td>0.205574</td>\n",
              "      <td>0.206522</td>\n",
              "      <td>0.206206</td>\n",
              "      <td>0.205890</td>\n",
              "      <td>0.206364</td>\n",
              "      <td>0.206838</td>\n",
              "      <td>0.206364</td>\n",
              "      <td>0.205890</td>\n",
              "    </tr>\n",
              "  </tbody>\n",
              "</table>\n",
              "<p>208 rows × 20 columns</p>\n",
              "</div>"
            ],
            "text/plain": [
              "           0         1         2   ...        17        18        19\n",
              "0    0.203361  0.238914  0.239862  ...  0.239546  0.239388  0.240336\n",
              "1    0.077742  0.082324  0.082798  ...  0.083114  0.082482  0.082640\n",
              "2    0.051196  0.052776  0.052934  ...  0.053250  0.052776  0.052776\n",
              "3    0.034763  0.035079  0.035237  ...  0.035079  0.035395  0.035553\n",
              "4    0.029706  0.029548  0.029390  ...  0.029390  0.030180  0.029706\n",
              "..        ...       ...       ...  ...       ...       ...       ...\n",
              "203  0.069209  0.069051  0.068893  ...  0.069209  0.069051  0.069683\n",
              "204  0.061467  0.060677  0.060677  ...  0.060993  0.061309  0.060993\n",
              "205  0.042663  0.042189  0.042031  ...  0.042347  0.042189  0.042505\n",
              "206  0.076478  0.075688  0.076636  ...  0.076636  0.076636  0.076320\n",
              "207  0.205890  0.205257  0.206048  ...  0.206838  0.206364  0.205890\n",
              "\n",
              "[208 rows x 20 columns]"
            ]
          },
          "metadata": {
            "tags": []
          },
          "execution_count": 43
        }
      ]
    },
    {
      "cell_type": "code",
      "metadata": {
        "id": "JH9NNYjPLj3g",
        "colab_type": "code",
        "colab": {
          "base_uri": "https://localhost:8080/",
          "height": 34
        },
        "outputId": "9418f0b7-4fd0-4ea4-d6ed-cfc9ebaf85e2"
      },
      "source": [
        "type(df)"
      ],
      "execution_count": null,
      "outputs": [
        {
          "output_type": "execute_result",
          "data": {
            "text/plain": [
              "pandas.core.frame.DataFrame"
            ]
          },
          "metadata": {
            "tags": []
          },
          "execution_count": 44
        }
      ]
    },
    {
      "cell_type": "code",
      "metadata": {
        "id": "xLmZ9B7yQ7lV",
        "colab_type": "code",
        "colab": {
          "base_uri": "https://localhost:8080/",
          "height": 439
        },
        "outputId": "82d6109d-dd0b-4bf5-cd10-33632202558b"
      },
      "source": [
        "# colocando nomes nas colunas \n",
        "df.columns = ['Eletrodo_1','Eletrodo_2','Eletrodo_3','Eletrodo_4','Eletrodo_5',\n",
        "              'Eletrodo_6','Eletrodo_7','Eletrodo_8','Eletrodo_9','Eletrodo_10',\n",
        "              'Eletrodo_11','Eletrodo_12','Eletrodo_13','Eletrodo_14','Eletrodo_15',\n",
        "              'Eletrodo_16','Eletrodo_17','Eletrodo_18','Eletrodo_19','Eletrodo_20']\n",
        "df"
      ],
      "execution_count": null,
      "outputs": [
        {
          "output_type": "execute_result",
          "data": {
            "text/html": [
              "<div>\n",
              "<style scoped>\n",
              "    .dataframe tbody tr th:only-of-type {\n",
              "        vertical-align: middle;\n",
              "    }\n",
              "\n",
              "    .dataframe tbody tr th {\n",
              "        vertical-align: top;\n",
              "    }\n",
              "\n",
              "    .dataframe thead th {\n",
              "        text-align: right;\n",
              "    }\n",
              "</style>\n",
              "<table border=\"1\" class=\"dataframe\">\n",
              "  <thead>\n",
              "    <tr style=\"text-align: right;\">\n",
              "      <th></th>\n",
              "      <th>Eletrodo_1</th>\n",
              "      <th>Eletrodo_2</th>\n",
              "      <th>Eletrodo_3</th>\n",
              "      <th>Eletrodo_4</th>\n",
              "      <th>Eletrodo_5</th>\n",
              "      <th>Eletrodo_6</th>\n",
              "      <th>Eletrodo_7</th>\n",
              "      <th>Eletrodo_8</th>\n",
              "      <th>Eletrodo_9</th>\n",
              "      <th>Eletrodo_10</th>\n",
              "      <th>Eletrodo_11</th>\n",
              "      <th>Eletrodo_12</th>\n",
              "      <th>Eletrodo_13</th>\n",
              "      <th>Eletrodo_14</th>\n",
              "      <th>Eletrodo_15</th>\n",
              "      <th>Eletrodo_16</th>\n",
              "      <th>Eletrodo_17</th>\n",
              "      <th>Eletrodo_18</th>\n",
              "      <th>Eletrodo_19</th>\n",
              "      <th>Eletrodo_20</th>\n",
              "    </tr>\n",
              "  </thead>\n",
              "  <tbody>\n",
              "    <tr>\n",
              "      <th>0</th>\n",
              "      <td>0.203361</td>\n",
              "      <td>0.238914</td>\n",
              "      <td>0.239862</td>\n",
              "      <td>0.239388</td>\n",
              "      <td>0.240020</td>\n",
              "      <td>0.238914</td>\n",
              "      <td>0.239546</td>\n",
              "      <td>0.239388</td>\n",
              "      <td>0.241126</td>\n",
              "      <td>0.240968</td>\n",
              "      <td>0.239546</td>\n",
              "      <td>0.239546</td>\n",
              "      <td>0.239704</td>\n",
              "      <td>0.240336</td>\n",
              "      <td>0.240020</td>\n",
              "      <td>0.240652</td>\n",
              "      <td>0.240178</td>\n",
              "      <td>0.239546</td>\n",
              "      <td>0.239388</td>\n",
              "      <td>0.240336</td>\n",
              "    </tr>\n",
              "    <tr>\n",
              "      <th>1</th>\n",
              "      <td>0.077742</td>\n",
              "      <td>0.082324</td>\n",
              "      <td>0.082798</td>\n",
              "      <td>0.082798</td>\n",
              "      <td>0.082324</td>\n",
              "      <td>0.082956</td>\n",
              "      <td>0.082798</td>\n",
              "      <td>0.082324</td>\n",
              "      <td>0.082798</td>\n",
              "      <td>0.083588</td>\n",
              "      <td>0.082640</td>\n",
              "      <td>0.082324</td>\n",
              "      <td>0.082640</td>\n",
              "      <td>0.083430</td>\n",
              "      <td>0.082640</td>\n",
              "      <td>0.082798</td>\n",
              "      <td>0.082956</td>\n",
              "      <td>0.083114</td>\n",
              "      <td>0.082482</td>\n",
              "      <td>0.082640</td>\n",
              "    </tr>\n",
              "    <tr>\n",
              "      <th>2</th>\n",
              "      <td>0.051196</td>\n",
              "      <td>0.052776</td>\n",
              "      <td>0.052934</td>\n",
              "      <td>0.052934</td>\n",
              "      <td>0.052934</td>\n",
              "      <td>0.052776</td>\n",
              "      <td>0.053092</td>\n",
              "      <td>0.052776</td>\n",
              "      <td>0.052776</td>\n",
              "      <td>0.053724</td>\n",
              "      <td>0.052776</td>\n",
              "      <td>0.052460</td>\n",
              "      <td>0.052934</td>\n",
              "      <td>0.052934</td>\n",
              "      <td>0.053092</td>\n",
              "      <td>0.052934</td>\n",
              "      <td>0.052460</td>\n",
              "      <td>0.053250</td>\n",
              "      <td>0.052776</td>\n",
              "      <td>0.052776</td>\n",
              "    </tr>\n",
              "    <tr>\n",
              "      <th>3</th>\n",
              "      <td>0.034763</td>\n",
              "      <td>0.035079</td>\n",
              "      <td>0.035237</td>\n",
              "      <td>0.035553</td>\n",
              "      <td>0.035395</td>\n",
              "      <td>0.034921</td>\n",
              "      <td>0.034921</td>\n",
              "      <td>0.035553</td>\n",
              "      <td>0.035395</td>\n",
              "      <td>0.035079</td>\n",
              "      <td>0.035395</td>\n",
              "      <td>0.035553</td>\n",
              "      <td>0.035237</td>\n",
              "      <td>0.035395</td>\n",
              "      <td>0.035553</td>\n",
              "      <td>0.035869</td>\n",
              "      <td>0.035237</td>\n",
              "      <td>0.035079</td>\n",
              "      <td>0.035395</td>\n",
              "      <td>0.035553</td>\n",
              "    </tr>\n",
              "    <tr>\n",
              "      <th>4</th>\n",
              "      <td>0.029706</td>\n",
              "      <td>0.029548</td>\n",
              "      <td>0.029390</td>\n",
              "      <td>0.029864</td>\n",
              "      <td>0.030022</td>\n",
              "      <td>0.029548</td>\n",
              "      <td>0.029232</td>\n",
              "      <td>0.030022</td>\n",
              "      <td>0.030022</td>\n",
              "      <td>0.029706</td>\n",
              "      <td>0.030022</td>\n",
              "      <td>0.030180</td>\n",
              "      <td>0.030022</td>\n",
              "      <td>0.029706</td>\n",
              "      <td>0.029706</td>\n",
              "      <td>0.030022</td>\n",
              "      <td>0.029864</td>\n",
              "      <td>0.029390</td>\n",
              "      <td>0.030180</td>\n",
              "      <td>0.029706</td>\n",
              "    </tr>\n",
              "    <tr>\n",
              "      <th>...</th>\n",
              "      <td>...</td>\n",
              "      <td>...</td>\n",
              "      <td>...</td>\n",
              "      <td>...</td>\n",
              "      <td>...</td>\n",
              "      <td>...</td>\n",
              "      <td>...</td>\n",
              "      <td>...</td>\n",
              "      <td>...</td>\n",
              "      <td>...</td>\n",
              "      <td>...</td>\n",
              "      <td>...</td>\n",
              "      <td>...</td>\n",
              "      <td>...</td>\n",
              "      <td>...</td>\n",
              "      <td>...</td>\n",
              "      <td>...</td>\n",
              "      <td>...</td>\n",
              "      <td>...</td>\n",
              "      <td>...</td>\n",
              "    </tr>\n",
              "    <tr>\n",
              "      <th>203</th>\n",
              "      <td>0.069209</td>\n",
              "      <td>0.069051</td>\n",
              "      <td>0.068893</td>\n",
              "      <td>0.069525</td>\n",
              "      <td>0.069683</td>\n",
              "      <td>0.069051</td>\n",
              "      <td>0.069051</td>\n",
              "      <td>0.069683</td>\n",
              "      <td>0.069525</td>\n",
              "      <td>0.069209</td>\n",
              "      <td>0.068893</td>\n",
              "      <td>0.069683</td>\n",
              "      <td>0.069525</td>\n",
              "      <td>0.069051</td>\n",
              "      <td>0.069051</td>\n",
              "      <td>0.069525</td>\n",
              "      <td>0.069525</td>\n",
              "      <td>0.069209</td>\n",
              "      <td>0.069051</td>\n",
              "      <td>0.069683</td>\n",
              "    </tr>\n",
              "    <tr>\n",
              "      <th>204</th>\n",
              "      <td>0.061467</td>\n",
              "      <td>0.060677</td>\n",
              "      <td>0.060677</td>\n",
              "      <td>0.061467</td>\n",
              "      <td>0.061467</td>\n",
              "      <td>0.060835</td>\n",
              "      <td>0.061151</td>\n",
              "      <td>0.061783</td>\n",
              "      <td>0.060993</td>\n",
              "      <td>0.060835</td>\n",
              "      <td>0.061309</td>\n",
              "      <td>0.061309</td>\n",
              "      <td>0.060993</td>\n",
              "      <td>0.060835</td>\n",
              "      <td>0.061151</td>\n",
              "      <td>0.061151</td>\n",
              "      <td>0.060519</td>\n",
              "      <td>0.060993</td>\n",
              "      <td>0.061309</td>\n",
              "      <td>0.060993</td>\n",
              "    </tr>\n",
              "    <tr>\n",
              "      <th>205</th>\n",
              "      <td>0.042663</td>\n",
              "      <td>0.042189</td>\n",
              "      <td>0.042031</td>\n",
              "      <td>0.042505</td>\n",
              "      <td>0.042347</td>\n",
              "      <td>0.042347</td>\n",
              "      <td>0.042189</td>\n",
              "      <td>0.042505</td>\n",
              "      <td>0.042347</td>\n",
              "      <td>0.042031</td>\n",
              "      <td>0.042663</td>\n",
              "      <td>0.042347</td>\n",
              "      <td>0.042031</td>\n",
              "      <td>0.042505</td>\n",
              "      <td>0.042663</td>\n",
              "      <td>0.042663</td>\n",
              "      <td>0.042821</td>\n",
              "      <td>0.042347</td>\n",
              "      <td>0.042189</td>\n",
              "      <td>0.042505</td>\n",
              "    </tr>\n",
              "    <tr>\n",
              "      <th>206</th>\n",
              "      <td>0.076478</td>\n",
              "      <td>0.075688</td>\n",
              "      <td>0.076636</td>\n",
              "      <td>0.076478</td>\n",
              "      <td>0.076320</td>\n",
              "      <td>0.076478</td>\n",
              "      <td>0.076794</td>\n",
              "      <td>0.076636</td>\n",
              "      <td>0.076004</td>\n",
              "      <td>0.076478</td>\n",
              "      <td>0.076952</td>\n",
              "      <td>0.075846</td>\n",
              "      <td>0.075688</td>\n",
              "      <td>0.076636</td>\n",
              "      <td>0.076636</td>\n",
              "      <td>0.076162</td>\n",
              "      <td>0.076004</td>\n",
              "      <td>0.076636</td>\n",
              "      <td>0.076636</td>\n",
              "      <td>0.076320</td>\n",
              "    </tr>\n",
              "    <tr>\n",
              "      <th>207</th>\n",
              "      <td>0.205890</td>\n",
              "      <td>0.205257</td>\n",
              "      <td>0.206048</td>\n",
              "      <td>0.206206</td>\n",
              "      <td>0.206364</td>\n",
              "      <td>0.205890</td>\n",
              "      <td>0.206522</td>\n",
              "      <td>0.207154</td>\n",
              "      <td>0.205415</td>\n",
              "      <td>0.206364</td>\n",
              "      <td>0.206364</td>\n",
              "      <td>0.206048</td>\n",
              "      <td>0.205574</td>\n",
              "      <td>0.206522</td>\n",
              "      <td>0.206206</td>\n",
              "      <td>0.205890</td>\n",
              "      <td>0.206364</td>\n",
              "      <td>0.206838</td>\n",
              "      <td>0.206364</td>\n",
              "      <td>0.205890</td>\n",
              "    </tr>\n",
              "  </tbody>\n",
              "</table>\n",
              "<p>208 rows × 20 columns</p>\n",
              "</div>"
            ],
            "text/plain": [
              "     Eletrodo_1  Eletrodo_2  Eletrodo_3  ...  Eletrodo_18  Eletrodo_19  Eletrodo_20\n",
              "0      0.203361    0.238914    0.239862  ...     0.239546     0.239388     0.240336\n",
              "1      0.077742    0.082324    0.082798  ...     0.083114     0.082482     0.082640\n",
              "2      0.051196    0.052776    0.052934  ...     0.053250     0.052776     0.052776\n",
              "3      0.034763    0.035079    0.035237  ...     0.035079     0.035395     0.035553\n",
              "4      0.029706    0.029548    0.029390  ...     0.029390     0.030180     0.029706\n",
              "..          ...         ...         ...  ...          ...          ...          ...\n",
              "203    0.069209    0.069051    0.068893  ...     0.069209     0.069051     0.069683\n",
              "204    0.061467    0.060677    0.060677  ...     0.060993     0.061309     0.060993\n",
              "205    0.042663    0.042189    0.042031  ...     0.042347     0.042189     0.042505\n",
              "206    0.076478    0.075688    0.076636  ...     0.076636     0.076636     0.076320\n",
              "207    0.205890    0.205257    0.206048  ...     0.206838     0.206364     0.205890\n",
              "\n",
              "[208 rows x 20 columns]"
            ]
          },
          "metadata": {
            "tags": []
          },
          "execution_count": 50
        }
      ]
    },
    {
      "cell_type": "code",
      "metadata": {
        "id": "NulsSwrBRHLQ",
        "colab_type": "code",
        "colab": {
          "base_uri": "https://localhost:8080/",
          "height": 34
        },
        "outputId": "894400e9-660f-4417-aabc-47fa433aa36e"
      },
      "source": [
        "type(df[\"Eletrodo_1\"])"
      ],
      "execution_count": null,
      "outputs": [
        {
          "output_type": "execute_result",
          "data": {
            "text/plain": [
              "pandas.core.series.Series"
            ]
          },
          "metadata": {
            "tags": []
          },
          "execution_count": 51
        }
      ]
    },
    {
      "cell_type": "code",
      "metadata": {
        "id": "oKR0FfaVUyvS",
        "colab_type": "code",
        "colab": {
          "base_uri": "https://localhost:8080/",
          "height": 34
        },
        "outputId": "fe19408e-0f8a-4d46-a7b7-888869674753"
      },
      "source": [
        "df.shape"
      ],
      "execution_count": null,
      "outputs": [
        {
          "output_type": "execute_result",
          "data": {
            "text/plain": [
              "(208, 20)"
            ]
          },
          "metadata": {
            "tags": []
          },
          "execution_count": 52
        }
      ]
    },
    {
      "cell_type": "code",
      "metadata": {
        "id": "8D5C971dVIc4",
        "colab_type": "code",
        "colab": {
          "base_uri": "https://localhost:8080/",
          "height": 374
        },
        "outputId": "87446927-d7a0-48a6-83ae-f58a23083e43"
      },
      "source": [
        "df.dtypes"
      ],
      "execution_count": null,
      "outputs": [
        {
          "output_type": "execute_result",
          "data": {
            "text/plain": [
              "Eletrodo_1     float64\n",
              "Eletrodo_2     float64\n",
              "Eletrodo_3     float64\n",
              "Eletrodo_4     float64\n",
              "Eletrodo_5     float64\n",
              "Eletrodo_6     float64\n",
              "Eletrodo_7     float64\n",
              "Eletrodo_8     float64\n",
              "Eletrodo_9     float64\n",
              "Eletrodo_10    float64\n",
              "Eletrodo_11    float64\n",
              "Eletrodo_12    float64\n",
              "Eletrodo_13    float64\n",
              "Eletrodo_14    float64\n",
              "Eletrodo_15    float64\n",
              "Eletrodo_16    float64\n",
              "Eletrodo_17    float64\n",
              "Eletrodo_18    float64\n",
              "Eletrodo_19    float64\n",
              "Eletrodo_20    float64\n",
              "dtype: object"
            ]
          },
          "metadata": {
            "tags": []
          },
          "execution_count": 53
        }
      ]
    },
    {
      "cell_type": "code",
      "metadata": {
        "id": "SyipqqT0VSev",
        "colab_type": "code",
        "colab": {
          "base_uri": "https://localhost:8080/",
          "height": 119
        },
        "outputId": "b1f95d4d-4a9f-49a4-9663-4e6b7b167ae7"
      },
      "source": [
        "df.columns"
      ],
      "execution_count": null,
      "outputs": [
        {
          "output_type": "execute_result",
          "data": {
            "text/plain": [
              "Index(['Eletrodo_1', 'Eletrodo_2', 'Eletrodo_3', 'Eletrodo_4', 'Eletrodo_5',\n",
              "       'Eletrodo_6', 'Eletrodo_7', 'Eletrodo_8', 'Eletrodo_9', 'Eletrodo_10',\n",
              "       'Eletrodo_11', 'Eletrodo_12', 'Eletrodo_13', 'Eletrodo_14',\n",
              "       'Eletrodo_15', 'Eletrodo_16', 'Eletrodo_17', 'Eletrodo_18',\n",
              "       'Eletrodo_19', 'Eletrodo_20'],\n",
              "      dtype='object')"
            ]
          },
          "metadata": {
            "tags": []
          },
          "execution_count": 54
        }
      ]
    },
    {
      "cell_type": "code",
      "metadata": {
        "id": "7LkPJdt-VZaz",
        "colab_type": "code",
        "colab": {
          "base_uri": "https://localhost:8080/",
          "height": 476
        },
        "outputId": "5793f8b8-adee-430d-824e-f6e5b8ced007"
      },
      "source": [
        "df.info()"
      ],
      "execution_count": null,
      "outputs": [
        {
          "output_type": "stream",
          "text": [
            "<class 'pandas.core.frame.DataFrame'>\n",
            "RangeIndex: 208 entries, 0 to 207\n",
            "Data columns (total 20 columns):\n",
            " #   Column       Non-Null Count  Dtype  \n",
            "---  ------       --------------  -----  \n",
            " 0   Eletrodo_1   208 non-null    float64\n",
            " 1   Eletrodo_2   208 non-null    float64\n",
            " 2   Eletrodo_3   208 non-null    float64\n",
            " 3   Eletrodo_4   208 non-null    float64\n",
            " 4   Eletrodo_5   208 non-null    float64\n",
            " 5   Eletrodo_6   208 non-null    float64\n",
            " 6   Eletrodo_7   208 non-null    float64\n",
            " 7   Eletrodo_8   208 non-null    float64\n",
            " 8   Eletrodo_9   208 non-null    float64\n",
            " 9   Eletrodo_10  208 non-null    float64\n",
            " 10  Eletrodo_11  208 non-null    float64\n",
            " 11  Eletrodo_12  208 non-null    float64\n",
            " 12  Eletrodo_13  208 non-null    float64\n",
            " 13  Eletrodo_14  208 non-null    float64\n",
            " 14  Eletrodo_15  208 non-null    float64\n",
            " 15  Eletrodo_16  208 non-null    float64\n",
            " 16  Eletrodo_17  208 non-null    float64\n",
            " 17  Eletrodo_18  208 non-null    float64\n",
            " 18  Eletrodo_19  208 non-null    float64\n",
            " 19  Eletrodo_20  208 non-null    float64\n",
            "dtypes: float64(20)\n",
            "memory usage: 32.6 KB\n"
          ],
          "name": "stdout"
        }
      ]
    },
    {
      "cell_type": "code",
      "metadata": {
        "id": "z7QGoRMdVgni",
        "colab_type": "code",
        "colab": {}
      },
      "source": [
        ""
      ],
      "execution_count": null,
      "outputs": []
    }
  ]
}